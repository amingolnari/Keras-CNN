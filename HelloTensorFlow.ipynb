{
  "nbformat": 4,
  "nbformat_minor": 0,
  "metadata": {
    "colab": {
      "name": "HelloTensorFlow.ipynb",
      "version": "0.3.2",
      "provenance": [],
      "collapsed_sections": []
    },
    "kernelspec": {
      "name": "python3",
      "display_name": "Python 3"
    },
    "accelerator": "TPU"
  },
  "cells": [
    {
      "metadata": {
        "id": "Wl28WsfEQyrE",
        "colab_type": "text"
      },
      "cell_type": "markdown",
      "source": [
        "**Import Numpy and TensorFlow**"
      ]
    },
    {
      "metadata": {
        "id": "9p7E6_7uQRjg",
        "colab_type": "code",
        "colab": {}
      },
      "cell_type": "code",
      "source": [
        "import numpy as np\n",
        "import tensorflow as tf"
      ],
      "execution_count": 0,
      "outputs": []
    },
    {
      "metadata": {
        "id": "9-DhUQAtQimJ",
        "colab_type": "text"
      },
      "cell_type": "markdown",
      "source": [
        "**Model Input/Output and Parameters**"
      ]
    },
    {
      "metadata": {
        "id": "0Vtrv11mQaHW",
        "colab_type": "code",
        "colab": {}
      },
      "cell_type": "code",
      "source": [
        "x = tf.placeholder(tf.float32)\n",
        "y = tf.placeholder(tf.float32)\n",
        "W = tf.Variable([1.0], tf.float32)\n",
        "b = tf.Variable([-1.0], tf.float32) "
      ],
      "execution_count": 0,
      "outputs": []
    },
    {
      "metadata": {
        "id": "50dHE14aROdp",
        "colab_type": "text"
      },
      "cell_type": "markdown",
      "source": [
        "**Model Compile (loss and optimizer)**"
      ]
    },
    {
      "metadata": {
        "id": "9qfM3E9gRVgy",
        "colab_type": "code",
        "colab": {}
      },
      "cell_type": "code",
      "source": [
        "loss = tf.reduce_sum(tf.square(tf.multiply(tf.add(W, x), b) - y)) \n",
        "train = tf.train.GradientDescentOptimizer(0.01).minimize(loss)"
      ],
      "execution_count": 0,
      "outputs": []
    },
    {
      "metadata": {
        "id": "eMt-dsA5R6xS",
        "colab_type": "text"
      },
      "cell_type": "markdown",
      "source": [
        "**Train Data**"
      ]
    },
    {
      "metadata": {
        "id": "qP-wd62WR_Q6",
        "colab_type": "code",
        "colab": {}
      },
      "cell_type": "code",
      "source": [
        "x_train = [0.0, 1.0, 2.0, 3.0, 4.0]\n",
        "y_train = [0.0, -1.0, -2.0, -3.0, -4.0] "
      ],
      "execution_count": 0,
      "outputs": []
    },
    {
      "metadata": {
        "id": "gmSgmMkHSjNh",
        "colab_type": "text"
      },
      "cell_type": "markdown",
      "source": [
        "**Initialize**"
      ]
    },
    {
      "metadata": {
        "id": "PWs81B8OSnH8",
        "colab_type": "code",
        "colab": {}
      },
      "cell_type": "code",
      "source": [
        "init = tf.global_variables_initializer()\n",
        "sess = tf.Session()\n",
        "sess.run(init) "
      ],
      "execution_count": 0,
      "outputs": []
    },
    {
      "metadata": {
        "id": "MdyQjS_4SxYT",
        "colab_type": "text"
      },
      "cell_type": "markdown",
      "source": [
        "**Train Loop**"
      ]
    },
    {
      "metadata": {
        "id": "xIRUlmNyS_YF",
        "colab_type": "code",
        "colab": {}
      },
      "cell_type": "code",
      "source": [
        "for i in range(100):\n",
        "    sess.run(train, {x: x_train, y: y_train}) "
      ],
      "execution_count": 0,
      "outputs": []
    },
    {
      "metadata": {
        "id": "iqVAX3_6TGYp",
        "colab_type": "text"
      },
      "cell_type": "markdown",
      "source": [
        "**Model Weight and Bias and Loss**"
      ]
    },
    {
      "metadata": {
        "id": "HTyEQaE0Vxjc",
        "colab_type": "code",
        "colab": {
          "base_uri": "https://localhost:8080/",
          "height": 34
        },
        "outputId": "71d22a36-e641-488a-d027-c4fbbfb165be"
      },
      "cell_type": "code",
      "source": [
        "W_, b_, loss_ = sess.run([W, b, loss], {x:x_train, y:y_train})\n",
        "print(\"W: %s b: %s loss: %s\" % (W_, b_, loss_)) "
      ],
      "execution_count": 7,
      "outputs": [
        {
          "output_type": "stream",
          "text": [
            "W: [0.11360177] b: [-0.9613082] loss: 0.020034002\n"
          ],
          "name": "stdout"
        }
      ]
    }
  ]
}